{
 "cells": [
  {
   "cell_type": "markdown",
   "metadata": {},
   "source": [
    "# Available Classrooms in the Afternoon"
   ]
  },
  {
   "cell_type": "code",
   "execution_count": 1,
   "metadata": {},
   "outputs": [],
   "source": [
    "import datetime\n",
    "import pandas as pd\n",
    "import matplotlib.pyplot as plt\n",
    "\n",
    "from utils import *"
   ]
  },
  {
   "cell_type": "markdown",
   "metadata": {},
   "source": [
    "- Select the **date** by specifying the day (*dd*), month (*mm*) and year(*yyyy*).\n",
    "- Specify a **starting time**. Only the hour is needed (e.g.: if it is set to `12`, it means that the starting time is 12:30)"
   ]
  },
  {
   "cell_type": "code",
   "execution_count": 2,
   "metadata": {},
   "outputs": [],
   "source": [
    "DAY = \"18\"\n",
    "MONTH = \"03\"\n",
    "YEAR = \"2022\"\n",
    "START_TIME = 12"
   ]
  },
  {
   "cell_type": "markdown",
   "metadata": {},
   "source": [
    "Select the **classrooms** you want to visualize by writing their name. You can divide them into subgroups: for instance, here they are divided by aisles. You can also specify some **preferred rooms**.\n",
    "\n",
    "Then, select a **color** for each subgroup."
   ]
  },
  {
   "cell_type": "code",
   "execution_count": 3,
   "metadata": {},
   "outputs": [],
   "source": [
    "B_LEFT = [\"B01\", \"B02\"]\n",
    "B_TOP = [\"B05\", \"B06\", \"B07\", \"B08\", \"B09\", \"B011\", \"B013\"]\n",
    "B_RIGHT = [\"B020\", \"B021\", \"B022\", \"B024\"]\n",
    "B_BOT = [\"B029\", \"B030\", \"B031\", \"B032\", \"B033\", \"B034\"]\n",
    "OTHER = []\n",
    "\n",
    "PREFERRED_ROOMS = [\"B05\"]\n",
    "\n",
    "SELECTED_ROOMS = B_LEFT + B_TOP + B_RIGHT + B_BOT + OTHER\n",
    "colors = []\n",
    "for i in SELECTED_ROOMS:\n",
    "    if i in PREFERRED_ROOMS:      # preferred rooms:\n",
    "        colors.append(\"#FFA493\")  # red\n",
    "    elif i in B_LEFT:             # B section, left aisle:\n",
    "        colors.append(\"#DAF7A6\")  # green\n",
    "    elif i in B_TOP:              # B section, top aisle:\n",
    "        colors.append(\"#AEFAEA\")  # teal\n",
    "    elif i in B_RIGHT:            # B section, right aisle:\n",
    "        colors.append(\"#AEEFFA\")  # light blue\n",
    "    elif i in B_BOT:              # B section, bottom aisle:\n",
    "        colors.append(\"#AED2FA\")  # blue violet\n",
    "    else:                         # other rooms:\n",
    "        colors.append(\"#C1C1C1\")  # grey"
   ]
  },
  {
   "cell_type": "markdown",
   "metadata": {},
   "source": [
    "Check if the date is valid. If an error occurs, correct the date and restart the kernel."
   ]
  },
  {
   "cell_type": "code",
   "execution_count": 4,
   "metadata": {},
   "outputs": [],
   "source": [
    "is_valid_date = True\n",
    "try:\n",
    "    datetime.datetime(int(YEAR), int(MONTH), int(DAY))\n",
    "except ValueError:\n",
    "    is_valid_date = False\n",
    "\n",
    "if not is_valid_date:\n",
    "    print(\"ERROR: insert a correct date\\nKilling the kernel...\")\n",
    "    quit()\n",
    "else:\n",
    "    pass"
   ]
  },
  {
   "cell_type": "markdown",
   "metadata": {},
   "source": [
    "Download the planner and check if there are classes on the specified date. If an error occurs, correct the date and restart the kernel."
   ]
  },
  {
   "cell_type": "code",
   "execution_count": 5,
   "metadata": {},
   "outputs": [
    {
     "name": "stdout",
     "output_type": "stream",
     "text": [
      "Fetching timetable....\n",
      "Done.\n"
     ]
    }
   ],
   "source": [
    "planner_url = \"https://planner.uniud.it/EasyRoom//index.php?page=4&content=view_prenotazioni&vista=day&area=13&_lang=it&day=\" + \\\n",
    "    DAY + \"&month=\" + MONTH + \"&year=\" + YEAR\n",
    "    \n",
    "Utils.fetch_timetable(planner_url)\n",
    "\n",
    "df = pd.read_csv(\"rizzi.csv\")\n",
    "\n",
    "if df.iloc[:, 1:][df.iloc[:, 1:].isnull().all(axis=1)].shape[0] == 55: #if all rows are all NaN \n",
    "    print(\"ERROR: no classes on this day. Change the date.\\nKilling the kernel...\")\n",
    "    quit()"
   ]
  },
  {
   "cell_type": "code",
   "execution_count": 6,
   "metadata": {},
   "outputs": [],
   "source": [
    "hours = [i for i in range(START_TIME,18)]\n",
    "data = {i: datetime.datetime(2022, 1, 1, hour=18, minute=30).time()\n",
    "        for i in SELECTED_ROOMS}"
   ]
  },
  {
   "cell_type": "code",
   "execution_count": 7,
   "metadata": {},
   "outputs": [],
   "source": [
    "prev_rooms = []\n",
    "\n",
    "for h in hours:\n",
    "    curr_time = datetime.datetime(2022, 1, 1, hour=h, minute=30).time()\n",
    "    curr_rooms = Utils.empty_rooms(\n",
    "        df, curr_time, 7)  # empty classrooms from `h` to end of the day\n",
    "    curr_rooms = list(set(SELECTED_ROOMS) & set(curr_rooms))\n",
    "    curr_rooms = [i for i in curr_rooms if i not in prev_rooms]\n",
    "    for i in curr_rooms:\n",
    "        data[i] = curr_time\n",
    "    prev_rooms.extend(curr_rooms)"
   ]
  },
  {
   "cell_type": "code",
   "execution_count": 8,
   "metadata": {},
   "outputs": [],
   "source": [
    "data_df = pd.DataFrame.from_dict(data, orient=\"index\", columns=[\n",
    "                                 \"start_time\"]).reset_index(level=0).rename(columns={\"index\": \"room\"})\n",
    "data_df[\"end_time\"] = [datetime.datetime(2022, 1, 1, hour=18, minute=30).time()] * data_df.shape[0]\n",
    "# data_df"
   ]
  },
  {
   "cell_type": "code",
   "execution_count": 9,
   "metadata": {},
   "outputs": [],
   "source": [
    "data_df[\"start_time\"] = data_df[\"start_time\"].apply(\n",
    "    lambda x: datetime.datetime.combine(datetime.date.today(), x))\n",
    "data_df[\"end_time\"] = data_df[\"end_time\"].apply(\n",
    "    lambda x: datetime.datetime.combine(datetime.date.today(), x))\n",
    "# data_df"
   ]
  },
  {
   "cell_type": "code",
   "execution_count": 10,
   "metadata": {},
   "outputs": [],
   "source": [
    "# https://towardsdatascience.com/gantt-charts-with-pythons-matplotlib-395b7af72d72\n",
    "# start time\n",
    "start = data_df.start_time.min()\n",
    "# seconds from start to availability start\n",
    "data_df[\"start_num\"] = (data_df.start_time - start).dt.seconds\n",
    "# number of seconds from start to end of availability\n",
    "data_df[\"end_num\"] = (data_df.end_time - start).dt.seconds\n",
    "# seconds between start and end of each availability\n",
    "data_df[\"duration\"] = data_df.end_num - data_df.start_num\n",
    "\n",
    "# data_df"
   ]
  },
  {
   "cell_type": "code",
   "execution_count": 11,
   "metadata": {},
   "outputs": [],
   "source": [
    "# add a column with the colors specified at the beginning        \n",
    "data_df[\"color\"] = colors\n",
    "# data_df"
   ]
  },
  {
   "cell_type": "code",
   "execution_count": 12,
   "metadata": {},
   "outputs": [
    {
     "data": {
      "image/png": "[encoded data removed]",
      "text/plain": [
       "<Figure size 432x432 with 1 Axes>"
      ]
     },
     "metadata": {
      "needs_background": "light"
     },
     "output_type": "display_data"
    }
   ],
   "source": [
    "fig, ax = plt.subplots(1, figsize=(6, 6))\n",
    "ax.grid(zorder=0)\n",
    "ax.barh(data_df.room, data_df.duration, left=data_df.start_num, color=data_df.color, zorder=3)\n",
    "\n",
    "ax.set_title(f\"{DAY}/{MONTH}/{YEAR}\")\n",
    "ax.set_ylabel(\"rooms\")\n",
    "ax.set_xlabel(\"time\")\n",
    "\n",
    "xticks = range(0, data_df.end_num.max()+1, 3600)\n",
    "xticks_labels = [str(i)[7:-3] for i in list(pd.timedelta_range(start=start.strftime(\n",
    "    \"%H:%M:%S\"), end=data_df.end_time.max().strftime(\"%H:%M:%S\"), freq=\"1H\"))]\n",
    "ax.set_xticks(xticks)\n",
    "ax.set_xticklabels(xticks_labels)\n",
    "\n",
    "# ax.yaxis.set_label_position(\"right\")\n",
    "ax.yaxis.tick_right()\n",
    "\n",
    "plt.show()"
   ]
  },
  {
   "cell_type": "markdown",
   "metadata": {},
   "source": [
    "Each bar in the graph above is a timeframe in which the corresponding room is available. \n",
    "\n",
    "When a room has no bar, it means that there is at least a class that ends at the end time. The room might have some empty time slots after the starting time, but it doesn not have a continuous availability until the end time, thus we don't show it."
   ]
  }
 ],
 "metadata": {
  "interpreter": {
   "hash": "31f2aee4e71d21fbe5cf8b01ff0e069b9275f58929596ceb00d14d90e3e16cd6"
  },
  "kernelspec": {
   "display_name": "Python 3.9.7 64-bit",
   "language": "python",
   "name": "python3"
  },
  "language_info": {
   "codemirror_mode": {
    "name": "ipython",
    "version": 3
   },
   "file_extension": ".py",
   "mimetype": "text/x-python",
   "name": "python",
   "nbconvert_exporter": "python",
   "pygments_lexer": "ipython3",
   "version": "3.9.7"
  },
  "orig_nbformat": 4
 },
 "nbformat": 4,
 "nbformat_minor": 2
}
